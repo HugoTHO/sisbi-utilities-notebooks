{
  "nbformat": 4,
  "nbformat_minor": 0,
  "metadata": {
    "colab": {
      "name": "sigaa-register-daily-movement-of-users.ipynb",
      "provenance": [],
      "authorship_tag": "ABX9TyO1rZKxQobLs/fKAW2TVVbW",
      "include_colab_link": true
    },
    "kernelspec": {
      "name": "python3",
      "display_name": "Python 3"
    },
    "language_info": {
      "name": "python"
    }
  },
  "cells": [
    {
      "cell_type": "markdown",
      "metadata": {
        "id": "view-in-github",
        "colab_type": "text"
      },
      "source": [
        "<a href=\"https://colab.research.google.com/github/HugoTHO/sisbi-utilities-notebooks/blob/main/sigaa_register_daily_movement_of_users.ipynb\" target=\"_parent\"><img src=\"https://colab.research.google.com/assets/colab-badge.svg\" alt=\"Open In Colab\"/></a>"
      ]
    },
    {
      "cell_type": "markdown",
      "source": [
        "# AUTOMAÇÃO DE REGISTRO DE MOVIMENTAÇÃO DIÁRIA DE USUÁRIOS\n",
        "***"
      ],
      "metadata": {
        "id": "vNAPbxxrXrRa"
      }
    },
    {
      "cell_type": "markdown",
      "source": [
        "## Importação de bibliotecas Python"
      ],
      "metadata": {
        "id": "V1my7YaUYlwK"
      }
    },
    {
      "cell_type": "code",
      "source": [
        "import bs4\n",
        "import json\n",
        "import re\n",
        "import requests\n",
        "import urllib.parse as urlparser\n",
        "\n",
        "from getpass import getpass\n",
        "from ipywidgets import widgets\n",
        "from html import unescape"
      ],
      "metadata": {
        "id": "0Ix-JCjyYdhr"
      },
      "execution_count": 8,
      "outputs": []
    },
    {
      "cell_type": "markdown",
      "source": [
        "## Login"
      ],
      "metadata": {
        "id": "GPoJlw9UWwO3"
      }
    },
    {
      "cell_type": "code",
      "execution_count": null,
      "metadata": {
        "id": "fkMHcR0tKxIp"
      },
      "outputs": [],
      "source": [
        "#@markdown Execute esta célula e forneça sua credencial do Sigaa e senha. <br>\n",
        "#@markdown Em seguida, escolha seu vínculo. <hr>\n",
        "#@markdown O login no sistema e escolha do vínculo são necessários para as \n",
        "#@markdown próximas operações.\n",
        "\n",
        "base_url = \"https://sigaa.ufrn.br\"\n",
        "base_path = \"/sigaa/\"\n",
        "relship_sel_path = \"/sigaa/vinculos.jsf\"\n",
        "\n",
        "# INTERFACE UTILITIES\n",
        "dropbox_placeholder = \"SELECIONE O VINCULO\"\n",
        "default_box_lt = widgets.Layout(padding='0 0 28px 0', border='1px solid white')\n",
        "success_box_lt = widgets.Layout(padding='0 0 28px 0', border='1px solid green')\n",
        "\n",
        "session = requests.Session()\n",
        "login_page = session.get(urlparser.urljoin(base_url, base_path))\n",
        "\n",
        "username = input(\"Usuário: \")\n",
        "password = getpass(\"Senha: \")\n",
        "\n",
        "# Mounts the POST necessary login data\n",
        "login_form = (\n",
        "    bs4.BeautifulSoup(login_page.text)\n",
        "    .find('form', {'id':'login-form'})\n",
        ")\n",
        "login_path = login_form['action']\n",
        "login_data = {\n",
        "    'username':username,\n",
        "    'password':password\n",
        "}\n",
        "for hidden_input in login_form.find_all('input',{'type':'hidden'}):\n",
        "    login_data[hidden_input['name']] = hidden_input['value']\n",
        "\n",
        "response = session.post(\n",
        "    urlparser.urljoin(login_page.url,login_path),\n",
        "    data=login_data\n",
        ")\n",
        "\n",
        "if len(response.history) and response.history[0].status_code > 300:\n",
        "    print('Login realizado com sucesso, escolha seu vínculo:')\n",
        "\n",
        "    relationship_page = session.get(\n",
        "        urlparser.urljoin(base_url, relship_sel_path)\n",
        "    )\n",
        "    relship_links = (\n",
        "        bs4.BeautifulSoup(relationship_page.text)\n",
        "        .find_all('a', {'class': 'withoutFormat'})\n",
        "    )\n",
        "\n",
        "    # Concatenates the relationship type and description on link list,\n",
        "    # converting the escaped charactes.\n",
        "    choices = [\n",
        "        (reltype.string + \n",
        "        unescape(relship.string.split(':')[1]\n",
        "            .encode('ascii', 'xmlcharrefreplace')\n",
        "            .decode('utf-8'))\n",
        "        )\n",
        "        for reltype, relship in zip(\n",
        "            relship_links[::3],\n",
        "            relship_links[2::3]\n",
        "        )\n",
        "    ]\n",
        "\n",
        "    relship_dd = widgets.Dropdown(\n",
        "        options=[dropbox_placeholder] + choices,\n",
        "        value=dropbox_placeholder,\n",
        "        layout=default_box_lt\n",
        "    )\n",
        "    display(relship_dd)\n",
        "\n",
        "    # Registers a handler function to access the choiced relationship\n",
        "    def dd_change(change):\n",
        "        if (change['new'] != 0):\n",
        "            relship_path = relship_links[(change['new']-1)*3]['href']\n",
        "            session.get(urlparser.urljoin(base_url, relship_path))\n",
        "            relship_dd.layout = success_box_lt\n",
        "        else:\n",
        "            relship_dd.layout = default_box_lt\n",
        "\n",
        "    relship_dd.observe(dd_change, names='index')\n",
        "\n",
        "else:\n",
        "    print('Problema ao realizar o login')"
      ]
    },
    {
      "cell_type": "markdown",
      "source": [
        "## Cadastrar movimentação diária\n",
        "Em construção"
      ],
      "metadata": {
        "id": "ByjxE8kpBEOy"
      }
    },
    {
      "cell_type": "code",
      "source": [
        "library_path = \"/sigaa/biblioteca/index.jsf\"\n",
        "page_link_str = \"Cadastrar Movimentação Diária de Usuários\"\n",
        "\n",
        "\n",
        "def get_jsfcl_path(command_link):\n",
        "    '''Given a JSF command_link bs4.tag, returns path to access \n",
        "    the next page.\n",
        "    '''\n",
        "    return link_tag.find_parent('form')['action']\n",
        "\n",
        "def get_jsfcl_post_data(command_link):\n",
        "    '''Given a JSF command_link bs4.tag, returns the post data to \n",
        "    access the next page.\n",
        "    '''\n",
        "    post_data = { tag['name']: tag['value'] \n",
        "        if tag.has_attr('value') \n",
        "        else \"\"\n",
        "        for tag in link_tag.find_parent('form').find_all('input')\n",
        "    }\n",
        "\n",
        "    # Gets the jsfcljs javascript function's json param on JSF command link's\n",
        "    # onclick attr that references next page.\n",
        "    #\n",
        "    # more info:\n",
        "    # https://jakarta.ee/specifications/faces/2.3/jsdoc/jsf-uncompressed.js.html\n",
        "    re_pattern_str = r\"\"\"jsfcljs\\(                           # function call\n",
        "                        (?P<form>.+?),                       # form param\n",
        "                        (?P<json>{(?:(?:.+?):(?:.+?),?)+?}), # json param\n",
        "                        (?:(?P<target>.+?)\\))                # target param \"\"\"\n",
        "    post_data.update(\n",
        "        json.loads(\n",
        "            re.search(\n",
        "                pattern=re_pattern_str,\n",
        "                string=link_tag['onclick'],\n",
        "                flags=re.VERBOSE,\n",
        "            ).group('json').replace(\"'\",'\"')\n",
        "        )\n",
        "    )\n",
        "\n",
        "    return post_data\n",
        "\n",
        "\n",
        "library_page = session.get(urlparser.urljoin(base_url, library_path))\n",
        "link_tag = (\n",
        "    bs4.BeautifulSoup(library_page.text)\n",
        "    .find('a', string=page_link_str)\n",
        ")\n",
        "\n",
        "lib_month_year_page = session.post(\n",
        "    urlparser.urljoin(base_url, get_jsfcl_path(link_tag)),\n",
        "    data=get_jsfcl_post_data(link_tag)\n",
        ")"
      ],
      "metadata": {
        "id": "a45jykVb5oa6"
      },
      "execution_count": 17,
      "outputs": []
    },
    {
      "cell_type": "code",
      "source": [
        "import IPython\n",
        "IPython.display.HTML(lib_month_year_page.text)"
      ],
      "metadata": {
        "id": "pX6V6VFggFi5"
      },
      "execution_count": null,
      "outputs": []
    }
  ]
}