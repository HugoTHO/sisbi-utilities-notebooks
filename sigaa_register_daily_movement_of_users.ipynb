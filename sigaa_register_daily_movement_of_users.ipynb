{
  "nbformat": 4,
  "nbformat_minor": 0,
  "metadata": {
    "colab": {
      "name": "sigaa-register-daily-movement-of-users.ipynb",
      "provenance": [],
      "authorship_tag": "ABX9TyOw08keseI7TbOD4l47xXFQ",
      "include_colab_link": true
    },
    "kernelspec": {
      "name": "python3",
      "display_name": "Python 3"
    },
    "language_info": {
      "name": "python"
    }
  },
  "cells": [
    {
      "cell_type": "markdown",
      "metadata": {
        "id": "view-in-github",
        "colab_type": "text"
      },
      "source": [
        "<a href=\"https://colab.research.google.com/github/HugoTHO/sisbi-utilities-notebooks/blob/main/sigaa_register_daily_movement_of_users.ipynb\" target=\"_parent\"><img src=\"https://colab.research.google.com/assets/colab-badge.svg\" alt=\"Open In Colab\"/></a>"
      ]
    },
    {
      "cell_type": "markdown",
      "source": [
        "# AUTOMAÇÃO DE REGISTRO DE MOVIMENTAÇÃO DIÁRIA DE USUÁRIOS\n",
        "***"
      ],
      "metadata": {
        "id": "vNAPbxxrXrRa"
      }
    },
    {
      "cell_type": "markdown",
      "source": [
        "## Importação de bibliotecas Python"
      ],
      "metadata": {
        "id": "V1my7YaUYlwK"
      }
    },
    {
      "cell_type": "code",
      "source": [
        "import bs4\n",
        "import requests\n",
        "import urllib.parse as urlparser\n",
        "\n",
        "from getpass import getpass\n",
        "from ipywidgets import widgets\n",
        "from html import unescape"
      ],
      "metadata": {
        "id": "0Ix-JCjyYdhr"
      },
      "execution_count": 52,
      "outputs": []
    },
    {
      "cell_type": "markdown",
      "source": [
        "## Login"
      ],
      "metadata": {
        "id": "GPoJlw9UWwO3"
      }
    },
    {
      "cell_type": "code",
      "execution_count": null,
      "metadata": {
        "id": "fkMHcR0tKxIp",
        "cellView": "form"
      },
      "outputs": [],
      "source": [
        "#@markdown Execute esta célula e forneça sua credencial do Sigaa e senha. <br>\n",
        "#@markdown Em seguida, escolha seu vínculo. <hr>\n",
        "#@markdown O login no sistema e escolha do vínculo são necessários para as \n",
        "#@markdown próximas operações.\n",
        "\n",
        "base_url = \"https://sigaa.ufrn.br\"\n",
        "base_path = \"/sigaa/\"\n",
        "relship_sel_path = \"/sigaa/vinculos.jsf\"\n",
        "\n",
        "# INTERFACE UTILITIES\n",
        "dropbox_placeholder = \"SELECIONE O VINCULO\"\n",
        "default_box_lt = widgets.Layout(padding='0 0 28px 0', border='1px solid white')\n",
        "success_box_lt = widgets.Layout(padding='0 0 28px 0', border='1px solid green')\n",
        "\n",
        "session = requests.Session()\n",
        "login_page = session.get(urlparser.urljoin(base_url, base_path))\n",
        "\n",
        "username = input(\"Usuário: \")\n",
        "password = getpass(\"Senha: \")\n",
        "\n",
        "# Does mount the POST necessary login data\n",
        "login_form = (\n",
        "    bs4.BeautifulSoup(login_page.text)\n",
        "    .find('form', {'id':'login-form'})\n",
        ")\n",
        "login_path = login_form['action']\n",
        "login_data = {\n",
        "    'username':username,\n",
        "    'password':password\n",
        "}\n",
        "for hidden_input in login_form.find_all('input',{'type':'hidden'}):\n",
        "    login_data[hidden_input['name']] = hidden_input['value']\n",
        "\n",
        "response = session.post(\n",
        "    urlparser.urljoin(login_page.url,login_path),\n",
        "    data=login_data\n",
        ")\n",
        "\n",
        "if len(response.history) and response.history[0].status_code > 300:\n",
        "    print('Login realizado com sucesso, escolha seu vínculo:')\n",
        "\n",
        "    relationship_page = session.get(\n",
        "        urlparser.urljoin(base_url, relship_sel_path)\n",
        "    )\n",
        "    relship_links = (\n",
        "        bs4.BeautifulSoup(relationship_page.text)\n",
        "        .find_all('a', {'class': 'withoutFormat'})\n",
        "    )\n",
        "\n",
        "    # Does concatenate the relationship type and description on link list,\n",
        "    # converting the escaped charactes.\n",
        "    choices = [\n",
        "        (reltype.string + \n",
        "        unescape(relship.string.split(':')[1]\n",
        "            .encode('ascii', 'xmlcharrefreplace')\n",
        "            .decode('utf-8'))\n",
        "        )\n",
        "        for reltype, relship in zip(\n",
        "            relship_links[::3],\n",
        "            relship_links[2::3]\n",
        "        )\n",
        "    ]\n",
        "\n",
        "    relship_dd = widgets.Dropdown(\n",
        "        options = [dropbox_placeholder] + choices,\n",
        "        value = dropbox_placeholder,\n",
        "        layout = default_box_lt\n",
        "    )\n",
        "    display(relship_dd)\n",
        "\n",
        "    # Does register a handler function to access the choiced relationship\n",
        "    def dd_change(change):\n",
        "        if (change['new'] != 0):\n",
        "            relship_path = relship_links[(change['new']-1)*3]['href']\n",
        "            session.get(urlparser.urljoin(base_url, relship_path))\n",
        "            relship_dd.layout = success_box_lt\n",
        "        else:\n",
        "            relship_dd.layout = default_box_lt\n",
        "\n",
        "    relship_dd.observe(dd_change, names='index')\n",
        "\n",
        "else:\n",
        "    print('Problema ao realizar o login')"
      ]
    },
    {
      "cell_type": "markdown",
      "source": [
        "## Cadastrar movimentação diária\n",
        "Em construção"
      ],
      "metadata": {
        "id": "ByjxE8kpBEOy"
      }
    },
    {
      "cell_type": "code",
      "source": [
        "library_path = \"/sigaa/biblioteca/index.jsf\"\n",
        "\n",
        "library_page = session.get(urlparser.urljoin(base_url, library_path))"
      ],
      "metadata": {
        "id": "zM2Y2erawQP8"
      },
      "execution_count": 225,
      "outputs": []
    },
    {
      "cell_type": "code",
      "source": [
        "post_path = (bs4.BeautifulSoup(library_page.text)\n",
        "    .find('a', string='Cadastrar Movimentação Diária de Usuários')\n",
        "    .find_parent('form')['action'])\n",
        "\n",
        "post_data = { tag['name']: tag['value'] if tag.has_attr('value') else \"\"\n",
        "    for tag in (bs4.BeautifulSoup(library_page.text)\n",
        "        .find('a', string='Cadastrar Movimentação Diária de Usuários')\n",
        "        .find_parent('form')\n",
        "        .find_all('input')\n",
        "    )\n",
        "}\n",
        "\n",
        "post_data['form:j_id_jsp_1241615306_121'] = 'form:j_id_jsp_1241615306_121' # TODO: get by anchor <a> onclick script\n",
        "\n",
        "# bs4.BeautifulSoup(library_page.text).find('a', string='Cadastrar Movimentação Diária de Usuários')['onclick']\n",
        "lib_month_year_page = session.post(urlparser.urljoin(base_url, post_path), data=post_data)"
      ],
      "metadata": {
        "id": "a45jykVb5oa6"
      },
      "execution_count": null,
      "outputs": []
    },
    {
      "cell_type": "code",
      "source": [
        "import IPython\n",
        "IPython.display.HTML(lib_month_year_page.text)"
      ],
      "metadata": {
        "id": "pX6V6VFggFi5"
      },
      "execution_count": null,
      "outputs": []
    }
  ]
}